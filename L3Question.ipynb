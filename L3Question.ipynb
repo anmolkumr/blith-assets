{
  "nbformat": 4,
  "nbformat_minor": 0,
  "metadata": {
    "colab": {
      "provenance": [],
      "include_colab_link": true
    },
    "kernelspec": {
      "name": "python3",
      "display_name": "Python 3"
    },
    "language_info": {
      "name": "python"
    }
  },
  "cells": [
    {
      "cell_type": "markdown",
      "metadata": {
        "id": "view-in-github",
        "colab_type": "text"
      },
      "source": [
        "<a href=\"https://colab.research.google.com/github/anmolkumr/blith-assets/blob/main/L3Question.ipynb\" target=\"_parent\"><img src=\"https://colab.research.google.com/assets/colab-badge.svg\" alt=\"Open In Colab\"/></a>"
      ]
    },
    {
      "cell_type": "markdown",
      "source": [
        "# matplotlib.pyplot"
      ],
      "metadata": {
        "id": "qH0s6nRZmBsf"
      }
    },
    {
      "cell_type": "markdown",
      "source": [
        "## Instructions common for all questions\n",
        "1. Install matplotlib.\n",
        "1. For each of the plot given, make sure to add appropriate axis labels and legends if any.\n",
        "2. Make sure that the color combination of the plot is set such that there is no ambiguity in the plot.\n",
        "3. Ensure that the text in the plots made is clearly visible and doesn't overlap with other plot.\n",
        "4. Some questions require plotting the graph using `subplot`. For the same, it is required to output all subplots together in a plot.\n",
        "5. For Question 3 and Question 5, load the dataset mentioned above section above Question 3.\n"
      ],
      "metadata": {
        "id": "-xkKy4jugUFH"
      }
    },
    {
      "cell_type": "markdown",
      "source": [
        "### installing matplotlib"
      ],
      "metadata": {
        "id": "Q9b3f1hogRhN"
      }
    },
    {
      "cell_type": "code",
      "source": [
        "# write your code here\n",
        "!pip install matplotlib"
      ],
      "metadata": {
        "id": "EhzLilPuMypb",
        "colab": {
          "base_uri": "https://localhost:8080/"
        },
        "outputId": "b2f8d408-d627-4ea4-b1ed-5e566c5aee79"
      },
      "execution_count": null,
      "outputs": [
        {
          "output_type": "stream",
          "name": "stdout",
          "text": [
            "Looking in indexes: https://pypi.org/simple, https://us-python.pkg.dev/colab-wheels/public/simple/\n",
            "Requirement already satisfied: matplotlib in /usr/local/lib/python3.8/dist-packages (3.2.2)\n",
            "Requirement already satisfied: cycler>=0.10 in /usr/local/lib/python3.8/dist-packages (from matplotlib) (0.11.0)\n",
            "Requirement already satisfied: python-dateutil>=2.1 in /usr/local/lib/python3.8/dist-packages (from matplotlib) (2.8.2)\n",
            "Requirement already satisfied: kiwisolver>=1.0.1 in /usr/local/lib/python3.8/dist-packages (from matplotlib) (1.4.4)\n",
            "Requirement already satisfied: pyparsing!=2.0.4,!=2.1.2,!=2.1.6,>=2.0.1 in /usr/local/lib/python3.8/dist-packages (from matplotlib) (3.0.9)\n",
            "Requirement already satisfied: numpy>=1.11 in /usr/local/lib/python3.8/dist-packages (from matplotlib) (1.21.6)\n",
            "Requirement already satisfied: six>=1.5 in /usr/local/lib/python3.8/dist-packages (from python-dateutil>=2.1->matplotlib) (1.15.0)\n"
          ]
        }
      ]
    },
    {
      "cell_type": "markdown",
      "source": [
        "### installing scikit-learn"
      ],
      "metadata": {
        "id": "lbLaHMO4JkYn"
      }
    },
    {
      "cell_type": "code",
      "source": [
        "# required for question\n",
        "! pip install scikit-learn"
      ],
      "metadata": {
        "colab": {
          "base_uri": "https://localhost:8080/"
        },
        "outputId": "64cad914-6513-43bd-8eec-ae76140820ce",
        "id": "57GO_PETmBsg"
      },
      "execution_count": null,
      "outputs": [
        {
          "output_type": "stream",
          "name": "stdout",
          "text": [
            "Looking in indexes: https://pypi.org/simple, https://us-python.pkg.dev/colab-wheels/public/simple/\n",
            "Requirement already satisfied: scikit-learn in /usr/local/lib/python3.8/dist-packages (1.0.2)\n",
            "Requirement already satisfied: threadpoolctl>=2.0.0 in /usr/local/lib/python3.8/dist-packages (from scikit-learn) (3.1.0)\n",
            "Requirement already satisfied: joblib>=0.11 in /usr/local/lib/python3.8/dist-packages (from scikit-learn) (1.2.0)\n",
            "Requirement already satisfied: numpy>=1.14.6 in /usr/local/lib/python3.8/dist-packages (from scikit-learn) (1.21.6)\n",
            "Requirement already satisfied: scipy>=1.1.0 in /usr/local/lib/python3.8/dist-packages (from scikit-learn) (1.7.3)\n"
          ]
        }
      ]
    },
    {
      "cell_type": "code",
      "source": [
        "import matplotlib.pyplot as plt\n",
        "import numpy as np\n",
        "# from google.colab.patches import cv2_imshow\n",
        "\n",
        "%matplotlib inline"
      ],
      "metadata": {
        "id": "vz3DvgqDmBsh"
      },
      "execution_count": 1,
      "outputs": []
    },
    {
      "cell_type": "markdown",
      "source": [
        "### Question 1\n",
        "Create a dataset of the population of a city in thousands for the past 10 years and create a bar graph to visualize the population trend over time."
      ],
      "metadata": {
        "id": "0ujZ-QRRv2I4"
      }
    },
    {
      "cell_type": "code",
      "source": [
        "import matplotlib \n",
        "population = [1, 1.2 ,1.3 ,1.3 ,1.5 ,1.5 ,1.6 ,1.6 ,1.7,1.8]\n",
        "years = [2013,2014,2015,2016,2017,2018,2019,2020,2021,2022]\n",
        "plt.xlabel(\"Years\")\n",
        "plt.ylabel(\"Population(in thousands)\")\n",
        "plt.bar(years,population)\n",
        "plt.show()"
      ],
      "metadata": {
        "id": "Hf6KscGpKPu2",
        "colab": {
          "base_uri": "https://localhost:8080/",
          "height": 279
        },
        "outputId": "afb209d9-5a34-40db-dfa8-4d48d9213829"
      },
      "execution_count": 2,
      "outputs": [
        {
          "output_type": "display_data",
          "data": {
            "text/plain": [
              "<Figure size 432x288 with 1 Axes>"
            ],
            "image/png": "[encoded data removed]"
          },
          "metadata": {
            "needs_background": "light"
          }
        }
      ]
    },
    {
      "cell_type": "markdown",
      "source": [
        "---"
      ],
      "metadata": {
        "id": "BuhB9O8DKirG"
      }
    },
    {
      "cell_type": "markdown",
      "source": [
        "### Question 2\n",
        "\n",
        "Plot the function $y = x^2 - 10$ for $x \\in [-10, 10]$ with intervals of $0.1$.\n"
      ],
      "metadata": {
        "id": "InbQzpN2mBsj"
      }
    },
    {
      "cell_type": "code",
      "source": [
        "\n",
        "x = np.arange(-10,10,0.1)\n",
        "#print(x)\n",
        "y = (x**2) -10\n",
        "\n",
        "plt.plot(y)\n",
        "plt.show()"
      ],
      "metadata": {
        "id": "nq4o_ywyKVkR",
        "colab": {
          "base_uri": "https://localhost:8080/",
          "height": 235
        },
        "outputId": "63dc68f6-f57a-4dc8-a572-3c749ba90cd9"
      },
      "execution_count": null,
      "outputs": [
        {
          "output_type": "display_data",
          "data": {
            "text/plain": [
              "<Figure size 432x288 with 1 Axes>"
            ],
            "image/png": "[encoded data removed]"
          },
          "metadata": {
            "needs_background": "light"
          }
        }
      ]
    },
    {
      "cell_type": "markdown",
      "source": [
        "---"
      ],
      "metadata": {
        "id": "7mgvKe80KdJ_"
      }
    },
    {
      "cell_type": "markdown",
      "source": [
        "### Loading Dataset for Questions 3 and 5"
      ],
      "metadata": {
        "id": "C-cS_48ML-7W"
      }
    },
    {
      "cell_type": "code",
      "source": [
        "'''\n",
        "Run this cell before attempting questions 3 and 5\n",
        "Also it would be better to explore the data before jumping to the question\n",
        "'''\n",
        "# dataset loading for Question 3 and Question 5\n",
        "from sklearn.datasets import load_digits\n",
        "\n",
        "digits_ds = load_digits()\n",
        "# digit images in an array\n",
        "images = digits_ds.images\n",
        "'''\n",
        "`image_labels` corresponding to images array\n",
        "above `images` array such that \n",
        "for any index i `image_labels[i]` contains label for `image[i]` \n",
        "'''\n",
        "image_labels = digits_ds.target"
      ],
      "metadata": {
        "id": "9bB7sa0PmBsl"
      },
      "execution_count": 3,
      "outputs": []
    },
    {
      "cell_type": "code",
      "source": [
        "# not needed but gives information about dataset used\n",
        "from pprint import pprint\n",
        "pprint(digits_ds)\n",
        "# print(images)"
      ],
      "metadata": {
        "colab": {
          "base_uri": "https://localhost:8080/"
        },
        "id": "eoDrdiCgoLrg",
        "outputId": "c3b188ef-716b-4be7-d2b3-ea653db4505b"
      },
      "execution_count": 6,
      "outputs": [
        {
          "output_type": "stream",
          "name": "stdout",
          "text": [
            "[[[ 0.  0.  5. ...  1.  0.  0.]\n",
            "  [ 0.  0. 13. ... 15.  5.  0.]\n",
            "  [ 0.  3. 15. ... 11.  8.  0.]\n",
            "  ...\n",
            "  [ 0.  4. 11. ... 12.  7.  0.]\n",
            "  [ 0.  2. 14. ... 12.  0.  0.]\n",
            "  [ 0.  0.  6. ...  0.  0.  0.]]\n",
            "\n",
            " [[ 0.  0.  0. ...  5.  0.  0.]\n",
            "  [ 0.  0.  0. ...  9.  0.  0.]\n",
            "  [ 0.  0.  3. ...  6.  0.  0.]\n",
            "  ...\n",
            "  [ 0.  0.  1. ...  6.  0.  0.]\n",
            "  [ 0.  0.  1. ...  6.  0.  0.]\n",
            "  [ 0.  0.  0. ... 10.  0.  0.]]\n",
            "\n",
            " [[ 0.  0.  0. ... 12.  0.  0.]\n",
            "  [ 0.  0.  3. ... 14.  0.  0.]\n",
            "  [ 0.  0.  8. ... 16.  0.  0.]\n",
            "  ...\n",
            "  [ 0.  9. 16. ...  0.  0.  0.]\n",
            "  [ 0.  3. 13. ... 11.  5.  0.]\n",
            "  [ 0.  0.  0. ... 16.  9.  0.]]\n",
            "\n",
            " ...\n",
            "\n",
            " [[ 0.  0.  1. ...  1.  0.  0.]\n",
            "  [ 0.  0. 13. ...  2.  1.  0.]\n",
            "  [ 0.  0. 16. ... 16.  5.  0.]\n",
            "  ...\n",
            "  [ 0.  0. 16. ... 15.  0.  0.]\n",
            "  [ 0.  0. 15. ... 16.  0.  0.]\n",
            "  [ 0.  0.  2. ...  6.  0.  0.]]\n",
            "\n",
            " [[ 0.  0.  2. ...  0.  0.  0.]\n",
            "  [ 0.  0. 14. ... 15.  1.  0.]\n",
            "  [ 0.  4. 16. ... 16.  7.  0.]\n",
            "  ...\n",
            "  [ 0.  0.  0. ... 16.  2.  0.]\n",
            "  [ 0.  0.  4. ... 16.  2.  0.]\n",
            "  [ 0.  0.  5. ... 12.  0.  0.]]\n",
            "\n",
            " [[ 0.  0. 10. ...  1.  0.  0.]\n",
            "  [ 0.  2. 16. ...  1.  0.  0.]\n",
            "  [ 0.  0. 15. ... 15.  0.  0.]\n",
            "  ...\n",
            "  [ 0.  4. 16. ... 16.  6.  0.]\n",
            "  [ 0.  8. 16. ... 16.  8.  0.]\n",
            "  [ 0.  1.  8. ... 12.  1.  0.]]]\n"
          ]
        }
      ]
    },
    {
      "cell_type": "markdown",
      "source": [
        "---"
      ],
      "metadata": {
        "id": "jN2btSJcMMxb"
      }
    },
    {
      "cell_type": "markdown",
      "source": [
        "### Question 3\n",
        "Using the `image_labels`, make a pie chart and horizontal bar graph giving the frequency of data points (labels) for each digit. Plot both pie chart and bar graph in the same plot.\n",
        "\n"
      ],
      "metadata": {
        "id": "LzlTN7EYmBsn"
      }
    },
    {
      "cell_type": "code",
      "source": [],
      "metadata": {
        "id": "bxJVYiERKWru"
      },
      "execution_count": null,
      "outputs": []
    },
    {
      "cell_type": "markdown",
      "source": [
        "---"
      ],
      "metadata": {
        "id": "u7PsC9ZaKjyj"
      }
    },
    {
      "cell_type": "markdown",
      "source": [
        "### Question 4\n",
        "Suppose you have a dataset of stock prices for 4 different companies over the past year. You want to create a figure with 4 subplots, each showing the closing price of one of the companies over time.\n",
        "\n",
        "Also plot the same in the same graph, with different colors each representing a company ."
      ],
      "metadata": {
        "id": "6aSRGVJ-qLM_"
      }
    },
    {
      "cell_type": "code",
      "source": [
        "import csv \n",
        "fig,a =  plt.subplots(2,2)\n",
        "\n",
        "x = ['01-Mar-22','01-Apr-22','01-May-22','01-Jun-22','01-Jul-22','01-Aug-22','01-Sep-22','01-Oct-22','01-Nov-22','01-Dec-22','01-Jan-23',\n",
        "'01-Feb-23',\n",
        "'10-Feb-23'\n",
        "]\n",
        "\n",
        "\n",
        "adani = [1644.449951,\n",
        "2018,\n",
        "2325,\n",
        "2169.949951,\n",
        "2189.899902,\n",
        "2575.850098,\n",
        "3200,\n",
        "3440,\n",
        "3361.899902,\n",
        "3937.5,\n",
        "3870,\n",
        "2995,\n",
        "1769  \n",
        "]\n",
        "oracle = [75.980003,\n",
        "83.040001,\n",
        "73.93,\n",
        "73.019997,\n",
        "69.849998,\n",
        "77.18,\n",
        "74.120003,\n",
        "60.990002,\n",
        "78.599998,\n",
        "83.050003,\n",
        "82.470001,\n",
        "88.370003,\n",
        "87.139999,\n",
        "]\n",
        "infosys = [1715.599976,\n",
        "1886.849976,\n",
        "1550.900024,\n",
        "1513,\n",
        "1454,\n",
        "1564,\n",
        "1460.050049,\n",
        "1412,\n",
        "1553.050049,\n",
        "1656.199951,\n",
        "1514,\n",
        "1542.199951,\n",
        "1612.949951\n",
        "]\n",
        "cocacola = [62.139999,\n",
        "62.330002,\n",
        "65.279999,\n",
        "63.419998,\n",
        "63.119999,\n",
        "64.089996,\n",
        "61.580002,\n",
        "56.360001,\n",
        "60.029999,\n",
        "63.610001,\n",
        "63.560001,\n",
        "61.139999,\n",
        "60.150002\n",
        "]\n",
        "# plt.xticks(rotation=90)\n",
        "a[0][0].plot(x,adani)\n",
        "a[0][0].set_title('Adani Stocks')\n",
        "a[0][1].plot(x,oracle)\n",
        "a[0][1].set_title('Oracle Stocks')\n",
        "a[1][0].plot(x,infosys)\n",
        "a[1][0].set_title('Infosys Stocks')\n",
        "a[1][1].plot(x,cocacola)\n",
        "a[1][1].set_title('Cocacola Stocks')\n"
      ],
      "metadata": {
        "id": "PThow3giKZEM",
        "colab": {
          "base_uri": "https://localhost:8080/",
          "height": 299
        },
        "outputId": "1c064216-4237-4351-9236-b6a4bda52372"
      },
      "execution_count": 25,
      "outputs": [
        {
          "output_type": "execute_result",
          "data": {
            "text/plain": [
              "Text(0.5, 1.0, 'Cocacola Stocks')"
            ]
          },
          "metadata": {},
          "execution_count": 25
        },
        {
          "output_type": "display_data",
          "data": {
            "text/plain": [
              "<Figure size 432x288 with 4 Axes>"
            ],
            "image/png": "[encoded data removed]"
          },
          "metadata": {
            "needs_background": "light"
          }
        }
      ]
    },
    {
      "cell_type": "markdown",
      "source": [
        "---"
      ],
      "metadata": {
        "id": "QwPduaVyKZ7q"
      }
    },
    {
      "cell_type": "markdown",
      "source": [
        "### Question 5\n",
        "<!-- See any image in dataset using matplotlib. -->\n",
        "Plot image one of the from the `images` array using matplotlib, add appropriate label for the same. Also add different filters to get image in greyscale, etc.\n",
        "\n",
        "Hint: Use `cmap` parameter in the function call [here](https://matplotlib.org/stable/api/_as_gen/matplotlib.pyplot.imshow.html#matplotlib-pyplot-imshow) "
      ],
      "metadata": {
        "id": "Yc8fga09mBsm"
      }
    },
    {
      "cell_type": "code",
      "source": [],
      "metadata": {
        "id": "cQLOx7EBmBsm"
      },
      "execution_count": null,
      "outputs": []
    },
    {
      "cell_type": "markdown",
      "source": [
        "---"
      ],
      "metadata": {
        "id": "2SH7lPSlMPYB"
      }
    },
    {
      "cell_type": "markdown",
      "source": [
        "### References:\n",
        "- [Matplotlib API reference](https://matplotlib.org/stable/api/index.html)\n",
        "- [Scikit-learn Digits Dataset](https://scikit-learn.org/stable/modules/generated/sklearn.datasets.load_digits.html)\n",
        "\n",
        "### Further Reading:\n",
        "- [Matplotlib Examples](https://matplotlib.org/stable/gallery/index.html)\n",
        "- [Matplotlib Tutorials](https://matplotlib.org/stable/tutorials/index.html)\n",
        "---\n"
      ],
      "metadata": {
        "id": "PDAyGDUsOLRe"
      }
    }
  ]
}